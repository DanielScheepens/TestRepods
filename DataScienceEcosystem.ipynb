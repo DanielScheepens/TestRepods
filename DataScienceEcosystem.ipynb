{
 "cells": [
  {
   "cell_type": "code",
   "execution_count": null,
   "id": "0e5d1aa0-ddb4-4c95-90ef-1f6927441de3",
   "metadata": {},
   "outputs": [],
   "source": []
  },
  {
   "cell_type": "markdown",
   "id": "81e48d99-fe09-4fb3-80ae-eb83a5206bff",
   "metadata": {},
   "source": [
    "# Data Science Tools and Ecosystem"
   ]
  },
  {
   "cell_type": "markdown",
   "id": "b6e13c31-18d2-4047-a9e9-e7deea95f5d0",
   "metadata": {},
   "source": [
    "In this notebook, Data Science Tools and Ecosystem are summarized."
   ]
  },
  {
   "cell_type": "markdown",
   "id": "dc29f648-b4e5-4c26-a60a-5782092ea1d7",
   "metadata": {},
   "source": [
    "__Objectives__\n",
    "* popular languages\n",
    "* libraries\n",
    "* tools"
   ]
  },
  {
   "cell_type": "markdown",
   "id": "33ab4ebd-f17a-4071-84c9-3c8a7bf7c78b",
   "metadata": {},
   "source": [
    "## author\n",
    "| name |\n",
    "|--------------------|\n",
    "|Evarist Schouwvager |\n"
   ]
  },
  {
   "cell_type": "markdown",
   "id": "7c6b1af9-0056-4a71-a849-76a6eac9ed42",
   "metadata": {},
   "source": [
    "Some of the popular languages that Data Scientists use are:\n",
    "1. R\n",
    "2. Python\n",
    "3. C++\n"
   ]
  },
  {
   "cell_type": "markdown",
   "id": "573c8bde-9eb9-44e0-ba5c-31bc4b205530",
   "metadata": {},
   "source": [
    "Some of the commonly used libraries used by Data Scientists include:\n",
    "1. ggplot\n",
    "2. plotly\n",
    "3. matplotlib"
   ]
  },
  {
   "cell_type": "markdown",
   "id": "43dd6892-4b86-479d-864d-a11bd03f2947",
   "metadata": {},
   "source": [
    "Data science tools:\n",
    "1. Jupyter notebook\n",
    "2. Rstudio\n",
    "3. PyCharm\n",
    "4. Google Colab"
   ]
  },
  {
   "cell_type": "markdown",
   "id": "bfbaa172-ece5-404a-9aee-7a7768974e8e",
   "metadata": {},
   "source": [
    "### Below are a few examples of evaluating arithmetic expressions in Python\n",
    "* 2+2 = 5\n",
    "* 2-3 = 1\n",
    "* 8 + 8 * 8 =72\n"
   ]
  },
  {
   "cell_type": "code",
   "execution_count": 1,
   "id": "4dd9aae6-fc9b-48ff-bba0-595ef8821b22",
   "metadata": {},
   "outputs": [
    {
     "data": {
      "text/plain": [
       "17"
      ]
     },
     "execution_count": 1,
     "metadata": {},
     "output_type": "execute_result"
    }
   ],
   "source": [
    "3*4+5\n",
    "# This a simple arithmetic expression to multiply then add integers\n"
   ]
  },
  {
   "cell_type": "code",
   "execution_count": 2,
   "id": "95d1beaa-f6a9-4e14-8897-1e3aaeb63ece",
   "metadata": {},
   "outputs": [
    {
     "name": "stdout",
     "output_type": "stream",
     "text": [
      "3.3333333333333335\n"
     ]
    }
   ],
   "source": [
    "#This will convert 200 minutes to hours by diving by 60\n",
    "amin = 200 \n",
    "ahrs = amin/60\n",
    "print(ahrs)"
   ]
  },
  {
   "cell_type": "code",
   "execution_count": null,
   "id": "1e676383-1eba-4a12-9f4b-452b8edb37eb",
   "metadata": {},
   "outputs": [],
   "source": []
  }
 ],
 "metadata": {
  "kernelspec": {
   "display_name": "Python 3 (ipykernel)",
   "language": "python",
   "name": "python3"
  },
  "language_info": {
   "codemirror_mode": {
    "name": "ipython",
    "version": 3
   },
   "file_extension": ".py",
   "mimetype": "text/x-python",
   "name": "python",
   "nbconvert_exporter": "python",
   "pygments_lexer": "ipython3",
   "version": "3.12.8"
  }
 },
 "nbformat": 4,
 "nbformat_minor": 5
}
